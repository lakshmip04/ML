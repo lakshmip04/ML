{
  "nbformat": 4,
  "nbformat_minor": 0,
  "metadata": {
    "colab": {
      "provenance": [],
      "toc_visible": true
    },
    "kernelspec": {
      "name": "python3",
      "display_name": "Python 3"
    },
    "language_info": {
      "name": "python"
    }
  },
  "cells": [
    {
      "cell_type": "code",
      "execution_count": null,
      "metadata": {
        "id": "yqFE5lgZ-VfU",
        "colab": {
          "base_uri": "https://localhost:8080/"
        },
        "outputId": "61a2d24a-4a28-4080-f673-dabc26b52870"
      },
      "outputs": [
        {
          "output_type": "execute_result",
          "data": {
            "text/plain": [
              "(3, 9)"
            ]
          },
          "metadata": {},
          "execution_count": 16
        }
      ],
      "source": [
        "\"\"\"Write a program to count the number of vowels and consonants present in an input string.\"\"\"\n",
        "def count_vowels_consonants(str):\n",
        "  count_vowels=[]\n",
        "  count_consonants=[]\n",
        "  vowels=['a','e','i','o','u']\n",
        "  consonants=['b','c','d','f','g','h','j','k','l','m','n','p','q','r','s','t','v','w','x','y','z']\n",
        "  for char in str.lower():\n",
        "    if char in consonants:\n",
        "      count_consonants.append(char)\n",
        "    elif char in vowels:\n",
        "      count_vowels.append(char)\n",
        "  x=len(count_vowels)\n",
        "  y=len(count_consonants)\n",
        "  return x,y\n",
        "\n",
        "count_vowels_consonants('ABCDEFGHIJKL')"
      ]
    },
    {
      "cell_type": "code",
      "source": [
        "\"\"\"Write a program that accepts two matrices A and B as input and returns their product AB\"\"\"\n",
        "import numpy as np\n",
        "A=np.array([[1,2,3],[4,5,6],[7,8,9]])\n",
        "B=np.array([[9,8,7],[6,5,4]])\n",
        "def matrix_product(A,B):\n",
        "  if A.shape[1]!=B.shape[0]:\n",
        "    return \"Matrix multiplication not possible\"\n",
        "  return A@B\n",
        "matrix_product(A,B)"
      ],
      "metadata": {
        "id": "qePe3fZxAFYg",
        "colab": {
          "base_uri": "https://localhost:8080/",
          "height": 35
        },
        "outputId": "f2ee3e85-7c43-479d-9886-c43c0674f6ba"
      },
      "execution_count": null,
      "outputs": [
        {
          "output_type": "execute_result",
          "data": {
            "text/plain": [
              "'Matrix multiplication not possible'"
            ],
            "application/vnd.google.colaboratory.intrinsic+json": {
              "type": "string"
            }
          },
          "metadata": {},
          "execution_count": 24
        }
      ]
    },
    {
      "cell_type": "code",
      "source": [
        "\"\"\"Write a program to find the number of common elements between two lists. The lists contain integers.\"\"\"\n",
        "def common_elements(list1,list2):\n",
        "  count=0\n",
        "  for i in list1:\n",
        "    if i in list2:\n",
        "      count+=1\n",
        "  return count\n",
        "\n",
        "common_elements([1,2,3,4,5,6],[2,3,4,5,6,7])"
      ],
      "metadata": {
        "colab": {
          "base_uri": "https://localhost:8080/"
        },
        "id": "B-VZjUFVK08n",
        "outputId": "9c8dd243-e97b-4fb2-d527-6c12f03eabce"
      },
      "execution_count": null,
      "outputs": [
        {
          "output_type": "execute_result",
          "data": {
            "text/plain": [
              "5"
            ]
          },
          "metadata": {},
          "execution_count": 25
        }
      ]
    },
    {
      "cell_type": "code",
      "source": [
        "\"\"\"Write a program that accepts a matrix as input and returns its transpose.\"\"\"\n",
        "import numpy as np\n",
        "A=np.array([[1,2,3],[4,5,6],[7,8,9]])\n",
        "def matrix_transpose(A):\n",
        "  return A.T\n",
        "matrix_transpose(A)"
      ],
      "metadata": {
        "colab": {
          "base_uri": "https://localhost:8080/"
        },
        "id": "NFaEHqxoU6Mu",
        "outputId": "4ad96332-3a12-4978-a74c-0b86f22e4022"
      },
      "execution_count": null,
      "outputs": [
        {
          "output_type": "execute_result",
          "data": {
            "text/plain": [
              "array([[1, 4, 7],\n",
              "       [2, 5, 8],\n",
              "       [3, 6, 9]])"
            ]
          },
          "metadata": {},
          "execution_count": 26
        }
      ]
    },
    {
      "cell_type": "code",
      "source": [],
      "metadata": {
        "id": "xtqQlF36VGis"
      },
      "execution_count": null,
      "outputs": []
    }
  ]
}